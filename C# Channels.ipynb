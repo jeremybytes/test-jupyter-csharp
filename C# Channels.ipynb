{
 "cells": [
  {
   "cell_type": "code",
   "execution_count": null,
   "metadata": {},
   "outputs": [],
   "source": [
    "Console.WriteLine(\"Hello, World!\")"
   ]
  },
  {
   "cell_type": "code",
   "execution_count": null,
   "metadata": {},
   "outputs": [],
   "source": [
    "public record Person(int Id, string GivenName, string FamilyName,\n",
    "    DateTime StartDate, int Rating, string FormatString)\n",
    "{\n",
    "    public override string ToString()\n",
    "    {\n",
    "        if (string.IsNullOrEmpty(FormatString))\n",
    "            return $\"{GivenName} {FamilyName}\";\n",
    "        return string.Format(FormatString, GivenName, FamilyName);\n",
    "    }\n",
    "}\n",
    "\n",
    "public IEnumerable<Person> GetPeople()\n",
    "{\n",
    "    var p = new List<Person>()\n",
    "    {\n",
    "        new Person(1, \"John\", \"Koenig\", new DateTime(1975, 10, 17), 6, \"\"),\n",
    "        new Person(2, \"Dylan\", \"Hunt\", new DateTime(2000, 10, 2), 8, \"\"),\n",
    "        new Person(3, \"Leela\", \"Turanga\", new DateTime(1999, 3, 28), 8, \"{1} {0}\"),\n",
    "        new Person(4, \"John\", \"Crichton\", new DateTime(1999, 3, 19), 7, \"\"),\n",
    "        new Person(5, \"Dave\", \"Lister\", new DateTime(1988, 2, 15), 9, \"\"),\n",
    "        new Person(6, \"Laura\", \"Roslin\", new DateTime(2003, 12, 8), 6, \"\"),\n",
    "        new Person(7, \"John\", \"Sheridan\", new DateTime(1994, 1, 26), 6, \"\"),\n",
    "        new Person(8, \"Dante\", \"Montana\", new DateTime(2000, 11, 1), 5, \"\"),\n",
    "        new Person(9, \"Isaac\", \"Gampu\", new DateTime(1977, 9, 10), 4, \"\"),\n",
    "    };\n",
    "\n",
    "    return p;\n",
    "}\n",
    "\n",
    "public IEnumerable<int> GetIds()\n",
    "{\n",
    "    return GetPeople().Select(p => p.Id);\n",
    "}\n",
    "\n",
    "public async Task<Person> GetPerson(int id)\n",
    "{\n",
    "    await Task.Delay(1000);\n",
    "    return GetPeople().SingleOrDefault(p => p.Id == id);\n",
    "}"
   ]
  },
  {
   "cell_type": "code",
   "execution_count": null,
   "metadata": {},
   "outputs": [],
   "source": [
    "var start = DateTime.Now;\n",
    "\n",
    "foreach (var id in GetIds()) {\n",
    "    var person = await GetPerson(id);\n",
    "    Console.WriteLine($\"{person.Id}: {person}\");\n",
    "}\n",
    "\n",
    "var elapsed = DateTime.Now - start;\n",
    "Console.WriteLine($\"Total Time: {elapsed}\");"
   ]
  },
  {
   "cell_type": "code",
   "execution_count": null,
   "metadata": {},
   "outputs": [],
   "source": [
    "var start = DateTime.Now;\n",
    "\n",
    "var tasks = new List<Task>();\n",
    "\n",
    "foreach(var id in GetIds())\n",
    "{\n",
    "    var task = GetPerson(id);\n",
    "    tasks.Add(task.ContinueWith(t =>\n",
    "    {\n",
    "        var person = t.Result;\n",
    "        Console.WriteLine($\"{person.Id}: {person}\");\n",
    "    }));\n",
    "}\n",
    "await Task.WhenAll(tasks);\n",
    "\n",
    "var elapsed = DateTime.Now - start;\n",
    "Console.WriteLine($\"Total Time: {elapsed}\");"
   ]
  },
  {
   "cell_type": "code",
   "execution_count": null,
   "metadata": {},
   "outputs": [],
   "source": [
    "using System.Threading.Channels;\n",
    "\n",
    "public async Task Produce(ChannelWriter<Person> writer)\n",
    "{\n",
    "    var tasks = new List<Task>();\n",
    "    foreach(var id in GetIds())\n",
    "    {\n",
    "        tasks.Add(PutPersonOnChannel(id, writer));\n",
    "    }\n",
    "    await Task.WhenAll(tasks);\n",
    "}\n",
    "\n",
    "public async Task PutPersonOnChannel(int id, ChannelWriter<Person> writer)\n",
    "{\n",
    "    var person = await GetPerson(id);\n",
    "    await writer.WriteAsync(person);\n",
    "}\n",
    "\n",
    "public async Task Listen(ChannelReader<Person> reader)\n",
    "{\n",
    "    await foreach (Person person in reader.ReadAllAsync())\n",
    "    {\n",
    "        Console.WriteLine($\"{person.Id}: {person}\");\n",
    "    }\n",
    "}"
   ]
  },
  {
   "cell_type": "code",
   "execution_count": null,
   "metadata": {},
   "outputs": [],
   "source": [
    "var start = DateTime.Now;\n",
    "\n",
    "var channel = Channel.CreateUnbounded<Person>();\n",
    "\n",
    "var listener = Listen(channel.Reader);\n",
    "var producer = Produce(channel.Writer);\n",
    "\n",
    "await producer;\n",
    "channel.Writer.Complete();\n",
    "await listener;\n",
    "\n",
    "var elapsed = DateTime.Now - start;\n",
    "Console.WriteLine($\"Total Time: {elapsed}\");"
   ]
  }
 ],
 "metadata": {
  "kernelspec": {
   "display_name": ".NET (C#)",
   "language": "C#",
   "name": ".net-csharp"
  },
  "language_info": {
   "file_extension": ".cs",
   "mimetype": "text/x-csharp",
   "name": "C#",
   "pygments_lexer": "csharp",
   "version": "8.0"
  }
 },
 "nbformat": 4,
 "nbformat_minor": 4
}
