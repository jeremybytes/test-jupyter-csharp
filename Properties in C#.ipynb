{
 "cells": [
  {
   "cell_type": "markdown",
   "metadata": {},
   "source": [
    "# Properties in C#\n",
    "\n",
    "There are several different ways of declaring properties in C#. These range from automatic properties, properties with backing fields, expression-based properties, read-only properties, and properties that can only be set during initailization.  \n",
    "\n",
    "In the examples below, the following snippets of code are used.  \n",
    "\n",
    "This code uses a constructor with parameters that set the property values:  \n",
    "```c#\n",
    "// using constructor\n",
    "var p = new Person(\"Jeremy\", \"Clark\");\n",
    "Console.WriteLine($\"{p.GivenName} {p.FamilyName}\");\n",
    "```\n",
    "\n",
    "This code uses an object initializer to set property values:  \n",
    "```c#\n",
    "// using object initializer\n",
    "var p = new Person() { GivenName = \"Jeremy\", FamilyName = \"Clark\" };\n",
    "Console.WriteLine($\"{p.GivenName} {p.FamilyName}\");\n",
    "```\n",
    "\n",
    "This code modifies a property on an existing object:\n",
    "```c#\n",
    "// modifying a property\n",
    "p.GivenName = \"John\";\n",
    "Console.WriteLine($\"{p.GivenName} {p.FamilyName}\");\n",
    "```\n",
    "\n",
    "Based on the type of property, the code will either work or generate errors. Click through each section to see how each behaves."
   ]
  },
  {
   "cell_type": "markdown",
   "metadata": {},
   "source": [
    "### Automatic Property"
   ]
  },
  {
   "cell_type": "code",
   "execution_count": 1,
   "metadata": {},
   "outputs": [
    {
     "data": {
      "text/html": [
       "\r\n",
       "<div>\r\n",
       "    <div id='dotnet-interactive-this-cell-8744.Microsoft.DotNet.Interactive.Http.HttpPort' style='display: none'>\r\n",
       "        The below script needs to be able to find the current output cell; this is an easy method to get it.\r\n",
       "    </div>\r\n",
       "    <script type='text/javascript'>\r\n",
       "async function probeAddresses(probingAddresses) {\r\n",
       "    function timeout(ms, promise) {\r\n",
       "        return new Promise(function (resolve, reject) {\r\n",
       "            setTimeout(function () {\r\n",
       "                reject(new Error('timeout'))\r\n",
       "            }, ms)\r\n",
       "            promise.then(resolve, reject)\r\n",
       "        })\r\n",
       "    }\r\n",
       "\r\n",
       "    if (Array.isArray(probingAddresses)) {\r\n",
       "        for (let i = 0; i < probingAddresses.length; i++) {\r\n",
       "\r\n",
       "            let rootUrl = probingAddresses[i];\r\n",
       "\r\n",
       "            if (!rootUrl.endsWith('/')) {\r\n",
       "                rootUrl = `${rootUrl}/`;\r\n",
       "            }\r\n",
       "\r\n",
       "            try {\r\n",
       "                let response = await timeout(1000, fetch(`${rootUrl}discovery`, {\r\n",
       "                    method: 'POST',\r\n",
       "                    cache: 'no-cache',\r\n",
       "                    mode: 'cors',\r\n",
       "                    timeout: 1000,\r\n",
       "                    headers: {\r\n",
       "                        'Content-Type': 'text/plain'\r\n",
       "                    },\r\n",
       "                    body: probingAddresses[i]\r\n",
       "                }));\r\n",
       "\r\n",
       "                if (response.status == 200) {\r\n",
       "                    return rootUrl;\r\n",
       "                }\r\n",
       "            }\r\n",
       "            catch (e) { }\r\n",
       "        }\r\n",
       "    }\r\n",
       "}\r\n",
       "\r\n",
       "function loadDotnetInteractiveApi() {\r\n",
       "    probeAddresses([\"http://172.21.48.1:1000/\", \"http://172.18.144.1:1000/\", \"http://10.0.0.52:1000/\", \"http://127.0.0.1:1000/\"])\r\n",
       "        .then((root) => {\r\n",
       "        // use probing to find host url and api resources\r\n",
       "        // load interactive helpers and language services\r\n",
       "        let dotnetInteractiveRequire = require.config({\r\n",
       "        context: '8744.Microsoft.DotNet.Interactive.Http.HttpPort',\r\n",
       "                paths:\r\n",
       "            {\r\n",
       "                'dotnet-interactive': `${root}resources`\r\n",
       "                }\r\n",
       "        }) || require;\r\n",
       "\r\n",
       "            window.dotnetInteractiveRequire = dotnetInteractiveRequire;\r\n",
       "\r\n",
       "            window.configureRequireFromExtension = function(extensionName, extensionCacheBuster) {\r\n",
       "                let paths = {};\r\n",
       "                paths[extensionName] = `${root}extensions/${extensionName}/resources/`;\r\n",
       "                \r\n",
       "                let internalRequire = require.config({\r\n",
       "                    context: extensionCacheBuster,\r\n",
       "                    paths: paths,\r\n",
       "                    urlArgs: `cacheBuster=${extensionCacheBuster}`\r\n",
       "                    }) || require;\r\n",
       "\r\n",
       "                return internalRequire\r\n",
       "            };\r\n",
       "        \r\n",
       "            dotnetInteractiveRequire([\r\n",
       "                    'dotnet-interactive/dotnet-interactive'\r\n",
       "                ],\r\n",
       "                function (dotnet) {\r\n",
       "                    dotnet.init(window);\r\n",
       "                },\r\n",
       "                function (error) {\r\n",
       "                    console.log(error);\r\n",
       "                }\r\n",
       "            );\r\n",
       "        })\r\n",
       "        .catch(error => {console.log(error);});\r\n",
       "    }\r\n",
       "\r\n",
       "// ensure `require` is available globally\r\n",
       "if ((typeof(require) !==  typeof(Function)) || (typeof(require.config) !== typeof(Function))) {\r\n",
       "    let require_script = document.createElement('script');\r\n",
       "    require_script.setAttribute('src', 'https://cdnjs.cloudflare.com/ajax/libs/require.js/2.3.6/require.min.js');\r\n",
       "    require_script.setAttribute('type', 'text/javascript');\r\n",
       "    \r\n",
       "    \r\n",
       "    require_script.onload = function() {\r\n",
       "        loadDotnetInteractiveApi();\r\n",
       "    };\r\n",
       "\r\n",
       "    document.getElementsByTagName('head')[0].appendChild(require_script);\r\n",
       "}\r\n",
       "else {\r\n",
       "    loadDotnetInteractiveApi();\r\n",
       "}\r\n",
       "\r\n",
       "    </script>\r\n",
       "</div>"
      ]
     },
     "metadata": {},
     "output_type": "display_data"
    }
   ],
   "source": [
    "public class Person\n",
    "{\n",
    "    public string GivenName { get; set; }\n",
    "    public string FamilyName { get; set; }\n",
    "    \n",
    "    public Person() {} // default constructor (no initialization)\n",
    "    \n",
    "    public Person(string givenName, string familyName)\n",
    "    {\n",
    "        GivenName = givenName;\n",
    "        FamilyName = familyName;\n",
    "    }\n",
    "}"
   ]
  },
  {
   "cell_type": "code",
   "execution_count": 2,
   "metadata": {},
   "outputs": [
    {
     "name": "stdout",
     "output_type": "stream",
     "text": [
      "Jeremy Clark\r\n"
     ]
    }
   ],
   "source": [
    "// using constructor\n",
    "var p = new Person(\"Jeremy\", \"Clark\");\n",
    "Console.WriteLine($\"{p.GivenName} {p.FamilyName}\");"
   ]
  },
  {
   "cell_type": "code",
   "execution_count": 3,
   "metadata": {},
   "outputs": [
    {
     "name": "stdout",
     "output_type": "stream",
     "text": [
      "Jeremy Clark\r\n"
     ]
    }
   ],
   "source": [
    "// using object initializer\n",
    "var p = new Person() { GivenName = \"Jeremy\", FamilyName = \"Clark\" };\n",
    "Console.WriteLine($\"{p.GivenName} {p.FamilyName}\");"
   ]
  },
  {
   "cell_type": "code",
   "execution_count": 4,
   "metadata": {},
   "outputs": [
    {
     "name": "stdout",
     "output_type": "stream",
     "text": [
      "John Clark\r\n"
     ]
    }
   ],
   "source": [
    "// modifying a property\n",
    "p.GivenName = \"John\";\n",
    "Console.WriteLine($\"{p.GivenName} {p.FamilyName}\");"
   ]
  },
  {
   "cell_type": "markdown",
   "metadata": {},
   "source": [
    "### Read-only Property - No Setter"
   ]
  },
  {
   "cell_type": "code",
   "execution_count": 5,
   "metadata": {},
   "outputs": [],
   "source": [
    "public class Person\n",
    "{\n",
    "    public string GivenName { get; }\n",
    "    public string FamilyName { get; }\n",
    "    \n",
    "    public Person() {} // default constructor (no initialization)\n",
    "    \n",
    "    public Person(string givenName, string familyName)\n",
    "    {\n",
    "        GivenName = givenName;\n",
    "        FamilyName = familyName;\n",
    "    }\n",
    "}"
   ]
  },
  {
   "cell_type": "code",
   "execution_count": 6,
   "metadata": {},
   "outputs": [
    {
     "name": "stdout",
     "output_type": "stream",
     "text": [
      "Jeremy Clark\r\n"
     ]
    }
   ],
   "source": [
    "// using constructor\n",
    "var p = new Person(\"Jeremy\", \"Clark\");\n",
    "Console.WriteLine($\"{p.GivenName} {p.FamilyName}\");"
   ]
  },
  {
   "cell_type": "code",
   "execution_count": 7,
   "metadata": {},
   "outputs": [
    {
     "name": "stderr",
     "output_type": "stream",
     "text": [
      "\r\n",
      "(2,24): error CS0200: Property or indexer 'Person.GivenName' cannot be assigned to -- it is read only\r\n",
      "\r\n",
      "(2,46): error CS0200: Property or indexer 'Person.FamilyName' cannot be assigned to -- it is read only\r\n",
      "\r\n"
     ]
    },
    {
     "ename": "Cell not executed",
     "evalue": "compilation error",
     "output_type": "error",
     "traceback": []
    }
   ],
   "source": [
    "// using object initializer\n",
    "var p = new Person() { GivenName = \"Jeremy\", FamilyName = \"Clark\" };\n",
    "Console.WriteLine($\"{p.GivenName} {p.FamilyName}\");"
   ]
  },
  {
   "cell_type": "code",
   "execution_count": 8,
   "metadata": {},
   "outputs": [
    {
     "name": "stderr",
     "output_type": "stream",
     "text": [
      "\r\n",
      "(2,1): error CS0200: Property or indexer 'Person.GivenName' cannot be assigned to -- it is read only\r\n",
      "\r\n"
     ]
    },
    {
     "ename": "Cell not executed",
     "evalue": "compilation error",
     "output_type": "error",
     "traceback": []
    }
   ],
   "source": [
    "// modifying a property\n",
    "p.GivenName = \"John\";\n",
    "Console.WriteLine($\"{p.GivenName} {p.FamilyName}\");"
   ]
  },
  {
   "cell_type": "markdown",
   "metadata": {},
   "source": [
    "### Read-only Property - Private Setter"
   ]
  },
  {
   "cell_type": "code",
   "execution_count": 9,
   "metadata": {},
   "outputs": [],
   "source": [
    "public class Person\n",
    "{\n",
    "    public string GivenName { get; private set; }\n",
    "    public string FamilyName { get; private set; }\n",
    "    \n",
    "    public Person() {} // default constructor (no initialization)\n",
    "    \n",
    "    public Person(string givenName, string familyName)\n",
    "    {\n",
    "        GivenName = givenName;\n",
    "        FamilyName = familyName;\n",
    "    }\n",
    "}"
   ]
  },
  {
   "cell_type": "code",
   "execution_count": 10,
   "metadata": {},
   "outputs": [
    {
     "name": "stdout",
     "output_type": "stream",
     "text": [
      "Jeremy Clark\r\n"
     ]
    }
   ],
   "source": [
    "// using constructor\n",
    "var p = new Person(\"Jeremy\", \"Clark\");\n",
    "Console.WriteLine($\"{p.GivenName} {p.FamilyName}\");"
   ]
  },
  {
   "cell_type": "code",
   "execution_count": 11,
   "metadata": {},
   "outputs": [
    {
     "name": "stderr",
     "output_type": "stream",
     "text": [
      "\r\n",
      "(2,24): error CS0272: The property or indexer 'Person.GivenName' cannot be used in this context because the set accessor is inaccessible\r\n",
      "\r\n",
      "(2,46): error CS0272: The property or indexer 'Person.FamilyName' cannot be used in this context because the set accessor is inaccessible\r\n",
      "\r\n"
     ]
    },
    {
     "ename": "Cell not executed",
     "evalue": "compilation error",
     "output_type": "error",
     "traceback": []
    }
   ],
   "source": [
    "// using object initializer\n",
    "var p = new Person() { GivenName = \"Jeremy\", FamilyName = \"Clark\" };\n",
    "Console.WriteLine($\"{p.GivenName} {p.FamilyName}\");"
   ]
  },
  {
   "cell_type": "code",
   "execution_count": 12,
   "metadata": {},
   "outputs": [
    {
     "name": "stderr",
     "output_type": "stream",
     "text": [
      "\r\n",
      "(2,1): error CS0272: The property or indexer 'Person.GivenName' cannot be used in this context because the set accessor is inaccessible\r\n",
      "\r\n"
     ]
    },
    {
     "ename": "Cell not executed",
     "evalue": "compilation error",
     "output_type": "error",
     "traceback": []
    }
   ],
   "source": [
    "// modifying a property\n",
    "p.GivenName = \"John\";\n",
    "Console.WriteLine($\"{p.GivenName} {p.FamilyName}\");"
   ]
  },
  {
   "cell_type": "markdown",
   "metadata": {},
   "source": [
    "### Init Only Property"
   ]
  },
  {
   "cell_type": "code",
   "execution_count": 13,
   "metadata": {},
   "outputs": [],
   "source": [
    "public class Person\n",
    "{\n",
    "    public string GivenName { get; init; }\n",
    "    public string FamilyName { get; init; }\n",
    "\n",
    "    public Person() {} // default constructor (no initialization)\n",
    "    \n",
    "    public Person(string givenName, string familyName)\n",
    "    {\n",
    "        GivenName = givenName;\n",
    "        FamilyName = familyName;\n",
    "    }\n",
    "}"
   ]
  },
  {
   "cell_type": "code",
   "execution_count": 14,
   "metadata": {},
   "outputs": [
    {
     "name": "stdout",
     "output_type": "stream",
     "text": [
      "Jeremy Clark\r\n"
     ]
    }
   ],
   "source": [
    "// using constructor\n",
    "var p = new Person(\"Jeremy\", \"Clark\");\n",
    "Console.WriteLine($\"{p.GivenName} {p.FamilyName}\");"
   ]
  },
  {
   "cell_type": "code",
   "execution_count": 15,
   "metadata": {},
   "outputs": [
    {
     "name": "stdout",
     "output_type": "stream",
     "text": [
      "Jeremy Clark\r\n"
     ]
    }
   ],
   "source": [
    "// using object initializer\n",
    "p = new Person() { GivenName = \"Jeremy\", FamilyName = \"Clark\" };\n",
    "Console.WriteLine($\"{p.GivenName} {p.FamilyName}\");"
   ]
  },
  {
   "cell_type": "code",
   "execution_count": 16,
   "metadata": {},
   "outputs": [
    {
     "name": "stderr",
     "output_type": "stream",
     "text": [
      "\r\n",
      "(2,1): error CS8852: Init-only property or indexer 'Person.GivenName' can only be assigned in an object initializer, or on 'this' or 'base' in an instance constructor or an 'init' accessor.\r\n",
      "\r\n"
     ]
    },
    {
     "ename": "Cell not executed",
     "evalue": "compilation error",
     "output_type": "error",
     "traceback": []
    }
   ],
   "source": [
    "// modifying a property\n",
    "p.GivenName = \"John\";\n",
    "Console.WriteLine($\"{p.GivenName} {p.FamilyName}\");"
   ]
  },
  {
   "cell_type": "markdown",
   "metadata": {},
   "source": [
    "### Property with Backing Field (Full Property)"
   ]
  },
  {
   "cell_type": "code",
   "execution_count": 17,
   "metadata": {},
   "outputs": [],
   "source": [
    "public class Person\n",
    "{\n",
    "    private string givenName;\n",
    "    public string GivenName\n",
    "    {\n",
    "        get { return givenName; }\n",
    "        set { givenName = value; }\n",
    "    }\n",
    "    \n",
    "    private string familyName;\n",
    "    public string FamilyName\n",
    "    {\n",
    "        get { return familyName; }\n",
    "        set { familyName = value; }\n",
    "    }\n",
    "\n",
    "    public Person() {} // default constructor (no initialization)\n",
    "    \n",
    "    public Person(string givenName, string familyName)\n",
    "    {\n",
    "        GivenName = givenName;\n",
    "        FamilyName = familyName;\n",
    "    }\n",
    "}"
   ]
  },
  {
   "cell_type": "code",
   "execution_count": 18,
   "metadata": {},
   "outputs": [
    {
     "name": "stdout",
     "output_type": "stream",
     "text": [
      "Jeremy Clark\r\n"
     ]
    }
   ],
   "source": [
    "// using constructor\n",
    "var p = new Person(\"Jeremy\", \"Clark\");\n",
    "Console.WriteLine($\"{p.GivenName} {p.FamilyName}\");"
   ]
  },
  {
   "cell_type": "code",
   "execution_count": 19,
   "metadata": {},
   "outputs": [
    {
     "name": "stdout",
     "output_type": "stream",
     "text": [
      "Jeremy Clark\r\n"
     ]
    }
   ],
   "source": [
    "// using object initializer\n",
    "p = new Person() { GivenName = \"Jeremy\", FamilyName = \"Clark\" };\n",
    "Console.WriteLine($\"{p.GivenName} {p.FamilyName}\");"
   ]
  },
  {
   "cell_type": "code",
   "execution_count": 20,
   "metadata": {},
   "outputs": [
    {
     "name": "stdout",
     "output_type": "stream",
     "text": [
      "John Clark\r\n"
     ]
    }
   ],
   "source": [
    "// modifying a property\n",
    "p.GivenName = \"John\";\n",
    "Console.WriteLine($\"{p.GivenName} {p.FamilyName}\");"
   ]
  },
  {
   "cell_type": "markdown",
   "metadata": {},
   "source": [
    "### Expression-based Property"
   ]
  },
  {
   "cell_type": "code",
   "execution_count": 21,
   "metadata": {},
   "outputs": [],
   "source": [
    "public class Person\n",
    "{\n",
    "    private string givenName;\n",
    "    public string GivenName\n",
    "    {\n",
    "        get => givenName;\n",
    "        set => givenName = value;\n",
    "    }\n",
    "    \n",
    "    private string familyName;\n",
    "    public string FamilyName\n",
    "    {\n",
    "        get => familyName;\n",
    "        set => familyName = value;\n",
    "    }\n",
    "    public Person() {} // default constructor (no initialization)\n",
    "    \n",
    "    public Person(string givenName, string familyName)\n",
    "    {\n",
    "        GivenName = givenName;\n",
    "        FamilyName = familyName;\n",
    "    }\n",
    "}"
   ]
  },
  {
   "cell_type": "code",
   "execution_count": 22,
   "metadata": {},
   "outputs": [
    {
     "name": "stdout",
     "output_type": "stream",
     "text": [
      "Jeremy Clark\r\n"
     ]
    }
   ],
   "source": [
    "// using constructor\n",
    "var p = new Person(\"Jeremy\", \"Clark\");\n",
    "Console.WriteLine($\"{p.GivenName} {p.FamilyName}\");"
   ]
  },
  {
   "cell_type": "code",
   "execution_count": 23,
   "metadata": {},
   "outputs": [
    {
     "name": "stdout",
     "output_type": "stream",
     "text": [
      "Jeremy Clark\r\n"
     ]
    }
   ],
   "source": [
    "// using object initializer\n",
    "p = new Person() { GivenName = \"Jeremy\", FamilyName = \"Clark\" };\n",
    "Console.WriteLine($\"{p.GivenName} {p.FamilyName}\");"
   ]
  },
  {
   "cell_type": "code",
   "execution_count": 24,
   "metadata": {},
   "outputs": [
    {
     "name": "stdout",
     "output_type": "stream",
     "text": [
      "John Clark\r\n"
     ]
    }
   ],
   "source": [
    "// modifying a property\n",
    "p.GivenName = \"John\";\n",
    "Console.WriteLine($\"{p.GivenName} {p.FamilyName}\");"
   ]
  },
  {
   "cell_type": "markdown",
   "metadata": {},
   "source": [
    "### Expression-based Init-only Property"
   ]
  },
  {
   "cell_type": "code",
   "execution_count": 25,
   "metadata": {},
   "outputs": [],
   "source": [
    "public class Person\n",
    "{\n",
    "    private string givenName;\n",
    "    public string GivenName\n",
    "    {\n",
    "        get => givenName;\n",
    "        init => givenName = value;\n",
    "    }\n",
    "    \n",
    "    private string familyName;\n",
    "    public string FamilyName\n",
    "    {\n",
    "        get => familyName;\n",
    "        init => familyName = value;\n",
    "    }\n",
    "    public Person() {} // default constructor (no initialization)\n",
    "    \n",
    "    public Person(string givenName, string familyName)\n",
    "    {\n",
    "        GivenName = givenName;\n",
    "        FamilyName = familyName;\n",
    "    }\n",
    "}"
   ]
  },
  {
   "cell_type": "code",
   "execution_count": 26,
   "metadata": {},
   "outputs": [
    {
     "name": "stdout",
     "output_type": "stream",
     "text": [
      "Jeremy Clark\r\n"
     ]
    }
   ],
   "source": [
    "// using constructor\n",
    "var p = new Person(\"Jeremy\", \"Clark\");\n",
    "Console.WriteLine($\"{p.GivenName} {p.FamilyName}\");"
   ]
  },
  {
   "cell_type": "code",
   "execution_count": 27,
   "metadata": {},
   "outputs": [
    {
     "name": "stdout",
     "output_type": "stream",
     "text": [
      "Jeremy Clark\r\n"
     ]
    }
   ],
   "source": [
    "// using object initializer\n",
    "p = new Person() { GivenName = \"Jeremy\", FamilyName = \"Clark\" };\n",
    "Console.WriteLine($\"{p.GivenName} {p.FamilyName}\");"
   ]
  },
  {
   "cell_type": "code",
   "execution_count": 28,
   "metadata": {},
   "outputs": [
    {
     "name": "stderr",
     "output_type": "stream",
     "text": [
      "\r\n",
      "(2,1): error CS8852: Init-only property or indexer 'Person.GivenName' can only be assigned in an object initializer, or on 'this' or 'base' in an instance constructor or an 'init' accessor.\r\n",
      "\r\n"
     ]
    },
    {
     "ename": "Cell not executed",
     "evalue": "compilation error",
     "output_type": "error",
     "traceback": []
    }
   ],
   "source": [
    "// modifying a property\n",
    "p.GivenName = \"John\";\n",
    "Console.WriteLine($\"{p.GivenName} {p.FamilyName}\");"
   ]
  }
 ],
 "metadata": {
  "kernelspec": {
   "display_name": ".NET (C#)",
   "language": "C#",
   "name": ".net-csharp"
  },
  "language_info": {
   "file_extension": ".cs",
   "mimetype": "text/x-csharp",
   "name": "C#",
   "pygments_lexer": "csharp",
   "version": "8.0"
  }
 },
 "nbformat": 4,
 "nbformat_minor": 4
}
