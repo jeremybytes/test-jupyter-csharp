{
 "cells": [
  {
   "cell_type": "markdown",
   "metadata": {},
   "source": [
    "# Properties in C#\n",
    "\n",
    "There are several different ways of declaring properties in C#. These range from automatic properties, properties with backing fields, expression-based properties, read-only properties, and properties that can only be set during initailization.  \n",
    "\n",
    "In the examples below, the following snippets of code are used.  \n",
    "\n",
    "This code uses a constructor with parameters that set the property values:  \n",
    "```c#\n",
    "// using constructor\n",
    "var p = new Person(\"Jeremy\", \"Clark\");\n",
    "Console.WriteLine($\"{p.GivenName} {p.FamilyName}\");\n",
    "```\n",
    "\n",
    "This code uses an object initializer to set property values:  \n",
    "```c#\n",
    "// using object initializer\n",
    "var p = new Person() { GivenName = \"Jeremy\", FamilyName = \"Clark\" };\n",
    "Console.WriteLine($\"{p.GivenName} {p.FamilyName}\");\n",
    "```\n",
    "\n",
    "This code modifies a property on an existing object:\n",
    "```c#\n",
    "// modifying a property\n",
    "p.GivenName = \"John\";\n",
    "Console.WriteLine($\"{p.GivenName} {p.FamilyName}\");\n",
    "```\n",
    "\n",
    "Based on the type of property, the code will either work or generate errors. Click through each section to see how each behaves."
   ]
  },
  {
   "cell_type": "markdown",
   "metadata": {},
   "source": [
    "### Automatic Property"
   ]
  },
  {
   "cell_type": "code",
   "execution_count": null,
   "metadata": {},
   "outputs": [],
   "source": [
    "public class Person\n",
    "{\n",
    "    public string GivenName { get; set; }\n",
    "    public string FamilyName { get; set; }\n",
    "    \n",
    "    public Person() {} // default constructor (no initialization)\n",
    "    \n",
    "    public Person(string givenName, string familyName)\n",
    "    {\n",
    "        GivenName = givenName;\n",
    "        FamilyName = familyName;\n",
    "    }\n",
    "}"
   ]
  },
  {
   "cell_type": "code",
   "execution_count": null,
   "metadata": {},
   "outputs": [],
   "source": [
    "// using constructor\n",
    "var p = new Person(\"Jeremy\", \"Clark\");\n",
    "Console.WriteLine($\"{p.GivenName} {p.FamilyName}\");"
   ]
  },
  {
   "cell_type": "code",
   "execution_count": null,
   "metadata": {},
   "outputs": [],
   "source": [
    "// using object initializer\n",
    "var p = new Person() { GivenName = \"Jeremy\", FamilyName = \"Clark\" };\n",
    "Console.WriteLine($\"{p.GivenName} {p.FamilyName}\");"
   ]
  },
  {
   "cell_type": "code",
   "execution_count": null,
   "metadata": {},
   "outputs": [],
   "source": [
    "// modifying a property\n",
    "p.GivenName = \"John\";\n",
    "Console.WriteLine($\"{p.GivenName} {p.FamilyName}\");"
   ]
  },
  {
   "cell_type": "markdown",
   "metadata": {},
   "source": [
    "### Read-only Property - No Setter"
   ]
  },
  {
   "cell_type": "code",
   "execution_count": null,
   "metadata": {},
   "outputs": [],
   "source": [
    "public class Person\n",
    "{\n",
    "    public string GivenName { get; }\n",
    "    public string FamilyName { get; }\n",
    "    \n",
    "    public Person() {} // default constructor (no initialization)\n",
    "    \n",
    "    public Person(string givenName, string familyName)\n",
    "    {\n",
    "        GivenName = givenName;\n",
    "        FamilyName = familyName;\n",
    "    }\n",
    "}"
   ]
  },
  {
   "cell_type": "code",
   "execution_count": null,
   "metadata": {},
   "outputs": [],
   "source": [
    "// using constructor\n",
    "var p = new Person(\"Jeremy\", \"Clark\");\n",
    "Console.WriteLine($\"{p.GivenName} {p.FamilyName}\");"
   ]
  },
  {
   "cell_type": "code",
   "execution_count": null,
   "metadata": {},
   "outputs": [],
   "source": [
    "// using object initializer\n",
    "var p = new Person() { GivenName = \"Jeremy\", FamilyName = \"Clark\" };\n",
    "Console.WriteLine($\"{p.GivenName} {p.FamilyName}\");"
   ]
  },
  {
   "cell_type": "code",
   "execution_count": null,
   "metadata": {},
   "outputs": [],
   "source": [
    "// modifying a property\n",
    "p.GivenName = \"John\";\n",
    "Console.WriteLine($\"{p.GivenName} {p.FamilyName}\");"
   ]
  },
  {
   "cell_type": "markdown",
   "metadata": {},
   "source": [
    "### Read-only Property - Private Setter"
   ]
  },
  {
   "cell_type": "code",
   "execution_count": null,
   "metadata": {},
   "outputs": [],
   "source": [
    "public class Person\n",
    "{\n",
    "    public string GivenName { get; private set; }\n",
    "    public string FamilyName { get; private set; }\n",
    "    \n",
    "    public Person() {} // default constructor (no initialization)\n",
    "    \n",
    "    public Person(string givenName, string familyName)\n",
    "    {\n",
    "        GivenName = givenName;\n",
    "        FamilyName = familyName;\n",
    "    }\n",
    "}"
   ]
  },
  {
   "cell_type": "code",
   "execution_count": null,
   "metadata": {},
   "outputs": [],
   "source": [
    "// using constructor\n",
    "var p = new Person(\"Jeremy\", \"Clark\");\n",
    "Console.WriteLine($\"{p.GivenName} {p.FamilyName}\");"
   ]
  },
  {
   "cell_type": "code",
   "execution_count": null,
   "metadata": {},
   "outputs": [],
   "source": [
    "// using object initializer\n",
    "var p = new Person() { GivenName = \"Jeremy\", FamilyName = \"Clark\" };\n",
    "Console.WriteLine($\"{p.GivenName} {p.FamilyName}\");"
   ]
  },
  {
   "cell_type": "code",
   "execution_count": null,
   "metadata": {},
   "outputs": [],
   "source": [
    "// modifying a property\n",
    "p.GivenName = \"John\";\n",
    "Console.WriteLine($\"{p.GivenName} {p.FamilyName}\");"
   ]
  },
  {
   "cell_type": "markdown",
   "metadata": {},
   "source": [
    "### Init Only Property"
   ]
  },
  {
   "cell_type": "code",
   "execution_count": null,
   "metadata": {},
   "outputs": [],
   "source": [
    "public class Person\n",
    "{\n",
    "    public string GivenName { get; init; }\n",
    "    public string FamilyName { get; init; }\n",
    "\n",
    "    public Person() {} // default constructor (no initialization)\n",
    "    \n",
    "    public Person(string givenName, string familyName)\n",
    "    {\n",
    "        GivenName = givenName;\n",
    "        FamilyName = familyName;\n",
    "    }\n",
    "}"
   ]
  },
  {
   "cell_type": "code",
   "execution_count": null,
   "metadata": {},
   "outputs": [],
   "source": [
    "// using constructor\n",
    "var p = new Person(\"Jeremy\", \"Clark\");\n",
    "Console.WriteLine($\"{p.GivenName} {p.FamilyName}\");"
   ]
  },
  {
   "cell_type": "code",
   "execution_count": null,
   "metadata": {},
   "outputs": [],
   "source": [
    "// using object initializer\n",
    "p = new Person() { GivenName = \"Jeremy\", FamilyName = \"Clark\" };\n",
    "Console.WriteLine($\"{p.GivenName} {p.FamilyName}\");"
   ]
  },
  {
   "cell_type": "code",
   "execution_count": null,
   "metadata": {},
   "outputs": [],
   "source": [
    "// modifying a property\n",
    "p.GivenName = \"John\";\n",
    "Console.WriteLine($\"{p.GivenName} {p.FamilyName}\");"
   ]
  },
  {
   "cell_type": "markdown",
   "metadata": {},
   "source": [
    "### Property with Backing Field (Full Property)"
   ]
  },
  {
   "cell_type": "code",
   "execution_count": null,
   "metadata": {},
   "outputs": [],
   "source": [
    "public class Person\n",
    "{\n",
    "    private string givenName;\n",
    "    public string GivenName\n",
    "    {\n",
    "        get { return givenName; }\n",
    "        set { givenName = value; }\n",
    "    }\n",
    "    \n",
    "    private string familyName;\n",
    "    public string FamilyName\n",
    "    {\n",
    "        get { return familyName; }\n",
    "        set { familyName = value; }\n",
    "    }\n",
    "\n",
    "    public Person() {} // default constructor (no initialization)\n",
    "    \n",
    "    public Person(string givenName, string familyName)\n",
    "    {\n",
    "        GivenName = givenName;\n",
    "        FamilyName = familyName;\n",
    "    }\n",
    "}"
   ]
  },
  {
   "cell_type": "code",
   "execution_count": null,
   "metadata": {},
   "outputs": [],
   "source": [
    "// using constructor\n",
    "var p = new Person(\"Jeremy\", \"Clark\");\n",
    "Console.WriteLine($\"{p.GivenName} {p.FamilyName}\");"
   ]
  },
  {
   "cell_type": "code",
   "execution_count": null,
   "metadata": {},
   "outputs": [],
   "source": [
    "// using object initializer\n",
    "p = new Person() { GivenName = \"Jeremy\", FamilyName = \"Clark\" };\n",
    "Console.WriteLine($\"{p.GivenName} {p.FamilyName}\");"
   ]
  },
  {
   "cell_type": "code",
   "execution_count": null,
   "metadata": {},
   "outputs": [],
   "source": [
    "// modifying a property\n",
    "p.GivenName = \"John\";\n",
    "Console.WriteLine($\"{p.GivenName} {p.FamilyName}\");"
   ]
  },
  {
   "cell_type": "markdown",
   "metadata": {},
   "source": [
    "### Expression-based Property"
   ]
  },
  {
   "cell_type": "code",
   "execution_count": null,
   "metadata": {},
   "outputs": [],
   "source": [
    "public class Person\n",
    "{\n",
    "    private string givenName;\n",
    "    public string GivenName\n",
    "    {\n",
    "        get => givenName;\n",
    "        set => givenName = value;\n",
    "    }\n",
    "    \n",
    "    private string familyName;\n",
    "    public string FamilyName\n",
    "    {\n",
    "        get => familyName;\n",
    "        set => familyName = value;\n",
    "    }\n",
    "    public Person() {} // default constructor (no initialization)\n",
    "    \n",
    "    public Person(string givenName, string familyName)\n",
    "    {\n",
    "        GivenName = givenName;\n",
    "        FamilyName = familyName;\n",
    "    }\n",
    "}"
   ]
  },
  {
   "cell_type": "code",
   "execution_count": null,
   "metadata": {},
   "outputs": [],
   "source": [
    "// using constructor\n",
    "var p = new Person(\"Jeremy\", \"Clark\");\n",
    "Console.WriteLine($\"{p.GivenName} {p.FamilyName}\");"
   ]
  },
  {
   "cell_type": "code",
   "execution_count": null,
   "metadata": {},
   "outputs": [],
   "source": [
    "// using object initializer\n",
    "p = new Person() { GivenName = \"Jeremy\", FamilyName = \"Clark\" };\n",
    "Console.WriteLine($\"{p.GivenName} {p.FamilyName}\");"
   ]
  },
  {
   "cell_type": "code",
   "execution_count": null,
   "metadata": {},
   "outputs": [],
   "source": [
    "// modifying a property\n",
    "p.GivenName = \"John\";\n",
    "Console.WriteLine($\"{p.GivenName} {p.FamilyName}\");"
   ]
  },
  {
   "cell_type": "markdown",
   "metadata": {},
   "source": [
    "### Expression-based Init-only Property"
   ]
  },
  {
   "cell_type": "code",
   "execution_count": null,
   "metadata": {},
   "outputs": [],
   "source": [
    "public class Person\n",
    "{\n",
    "    private string givenName;\n",
    "    public string GivenName\n",
    "    {\n",
    "        get => givenName;\n",
    "        init => givenName = value;\n",
    "    }\n",
    "    \n",
    "    private string familyName;\n",
    "    public string FamilyName\n",
    "    {\n",
    "        get => familyName;\n",
    "        init => familyName = value;\n",
    "    }\n",
    "    public Person() {} // default constructor (no initialization)\n",
    "    \n",
    "    public Person(string givenName, string familyName)\n",
    "    {\n",
    "        GivenName = givenName;\n",
    "        FamilyName = familyName;\n",
    "    }\n",
    "}"
   ]
  },
  {
   "cell_type": "code",
   "execution_count": null,
   "metadata": {},
   "outputs": [],
   "source": [
    "// using constructor\n",
    "var p = new Person(\"Jeremy\", \"Clark\");\n",
    "Console.WriteLine($\"{p.GivenName} {p.FamilyName}\");"
   ]
  },
  {
   "cell_type": "code",
   "execution_count": null,
   "metadata": {},
   "outputs": [],
   "source": [
    "// using object initializer\n",
    "p = new Person() { GivenName = \"Jeremy\", FamilyName = \"Clark\" };\n",
    "Console.WriteLine($\"{p.GivenName} {p.FamilyName}\");"
   ]
  },
  {
   "cell_type": "code",
   "execution_count": null,
   "metadata": {},
   "outputs": [],
   "source": [
    "// modifying a property\n",
    "p.GivenName = \"John\";\n",
    "Console.WriteLine($\"{p.GivenName} {p.FamilyName}\");"
   ]
  }
 ],
 "metadata": {
  "kernelspec": {
   "display_name": ".NET (C#)",
   "language": "C#",
   "name": ".net-csharp"
  },
  "language_info": {
   "file_extension": ".cs",
   "mimetype": "text/x-csharp",
   "name": "C#",
   "pygments_lexer": "csharp",
   "version": "8.0"
  }
 },
 "nbformat": 4,
 "nbformat_minor": 4
}
